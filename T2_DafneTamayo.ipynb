{
 "cells": [
  {
   "cell_type": "markdown",
   "metadata": {},
   "source": [
    "# Resumen MLOps"
   ]
  },
  {
   "cell_type": "markdown",
   "metadata": {},
   "source": [
    "\n",
    "\n",
    "MLOps se refiere a las prácticas que integran y automatizan el desarrollo y operaciones de modelos de machine learning dentro de una organización. Es una combinación de \"ML\" (machine learning) y \"Ops\" (operaciones), que busca estandarizar y simplificar el ciclo de vida de los modelos de ML, desde su creación y prueba hasta su despliegue y gestión de la infraestructura. Esto permite resolver problemas complejos de manera eficiente, aportando valor a los clientes y optimizando los procesos internos de la organización."
   ]
  },
  {
   "cell_type": "markdown",
   "metadata": {},
   "source": [
    "# Importancia\n",
    "\n",
    "El análisis exploratorio de datos en machine learning implica probar múltiples modelos antes de encontrar el mejor para implementar. MLOps es crucial para gestionar eficazmente la implementación simultánea de nuevos modelos de ML junto con cambios en el código y los datos.\n",
    "\n",
    "Para iniciar con machine learning, es esencial preparar los datos. Esto implica recopilar datos de diversas fuentes y tipos, y realizar tareas como la integración, eliminación de duplicados y la ingeniería de características para transformar los datos en un formato utilizable para los modelos de machine. \n"
   ]
  },
  {
   "cell_type": "markdown",
   "metadata": {},
   "source": [
    "# Beneficios\n",
    "\n",
    "Las MLOps brindan una guía clara para ejecutar proyectos de machine learning con éxito, superando desafíos como la protección de datos, la falta de personal especializado, y la tecnología en constante cambio.\n",
    "\n",
    "-Reducción del tiempo de comercialización: MLOps agiliza el desarrollo y la implementación de modelos, permitiendo a las organizaciones alcanzar sus objetivos de manera más eficiente.\n",
    "\n",
    "-Mejora de la productividad: Facilita la estandarización y reutilización de entornos y modelos, acelerando el desarrollo.\n",
    "\n",
    "-Eficiencia en la implementación: MLOps mejora la gestión de modelos en producción, asegurando un rendimiento consistente incluso tras actualizaciones."
   ]
  },
  {
   "cell_type": "markdown",
   "metadata": {},
   "source": [
    "# MLOps vs DevOps\n",
    "\n",
    "MLOps y DevOps comparten el objetivo de mejorar el desarrollo, implementación y monitoreo de software, pero se enfocan en áreas diferentes. \n",
    "\n",
    "-DevOps se centra en cerrar la brecha entre desarrollo y operaciones para agilizar los ciclos de lanzamiento de aplicaciones tradicionales. \n",
    "-MLOps está diseñado específicamente para proyectos de machine learning, abordando desafíos como la recopilación de datos, entrenamiento, implementación y reentrenamiento continuo de modelos. MLOps automatiza y optimiza el ciclo de vida del ML, garantizando modelos precisos y valiosos para la empresa.\n"
   ]
  },
  {
   "cell_type": "markdown",
   "metadata": {},
   "source": [
    "# AWS -\n",
    "\n",
    "Amazon SageMaker es una herramienta poderosa de AWS que facilita la implementación de MLOps al automatizar y gestionar todo el ciclo de vida del machine learning. Con SageMaker, puedes controlar experimentos, automatizar canalizaciones de entrenamiento, gestionar versiones de modelos y monitorizar su rendimiento en un entorno centralizado. Esto te permite escalar tus operaciones de ML de manera eficiente y asegurarte de que los modelos aporten valor a tu empresa. SageMaker es ideal para cumplir con los requisitos de MLOps de forma rápida y efectiva."
   ]
  }
 ],
 "metadata": {
  "language_info": {
   "name": "python"
  }
 },
 "nbformat": 4,
 "nbformat_minor": 2
}
